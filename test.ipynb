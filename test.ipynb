{
 "cells": [
  {
   "cell_type": "code",
   "execution_count": null,
   "metadata": {},
   "outputs": [],
   "source": [
    "!pip install ultralytics"
   ]
  },
  {
   "cell_type": "code",
   "execution_count": null,
   "metadata": {},
   "outputs": [],
   "source": [
    "from ultralytics import YOLO\n",
    "\n",
    "# 从头开始创建一个新的YOLO模型\n",
    "model = YOLO('yolov8n.yaml')\n",
    "\n",
    "# 加载预训练的YOLO模型（推荐用于训练）\n",
    "model = YOLO('yolov8n.pt')"
   ]
  },
  {
   "cell_type": "code",
   "execution_count": null,
   "metadata": {},
   "outputs": [],
   "source": [
    "# 使用“coco128.yaml”数据集训练模型3个周期\n",
    "results = model.train(data='coco128.yaml', epochs=3)\n",
    "\n",
    "# 评估模型在验证集上的性能\n",
    "results = model.val()"
   ]
  },
  {
   "cell_type": "code",
   "execution_count": null,
   "metadata": {},
   "outputs": [],
   "source": [
    "# 使用模型对图片进行目标检测\n",
    "results = model('https://ultralytics.com/images/bus.jpg')\n",
    "\n",
    "# 保存目标检测结果\n",
    "results.save()\n",
    "\n",
    "# 将模型导出为ONNX格式\n",
    "success = model.export(format='onnx')"
   ]
  }
 ],
 "metadata": {
  "language_info": {
   "name": "python"
  }
 },
 "nbformat": 4,
 "nbformat_minor": 2
}
